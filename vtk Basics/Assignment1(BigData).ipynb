{
 "cells": [
  {
   "cell_type": "markdown",
   "id": "7583f480",
   "metadata": {},
   "source": [
    "###                                                                  Assignment 1 - CS661A\n",
    "####                                                                       Abhay Kumar Dwivedi (22111001)"
   ]
  },
  {
   "cell_type": "code",
   "execution_count": 1,
   "id": "0c7967f8",
   "metadata": {},
   "outputs": [],
   "source": [
    "# Importing vtk\n",
    "from vtk import *"
   ]
  },
  {
   "cell_type": "markdown",
   "id": "7e4fe533",
   "metadata": {},
   "source": [
    "### 1. Data Query/Processing Task :"
   ]
  },
  {
   "cell_type": "code",
   "execution_count": 2,
   "id": "59315896",
   "metadata": {},
   "outputs": [
    {
     "name": "stdout",
     "output_type": "stream",
     "text": [
      "vtkImageData (000001ADEAD49C00)\n",
      "  Debug: Off\n",
      "  Modified Time: 292\n",
      "  Reference Count: 2\n",
      "  Registered Events: (none)\n",
      "  Information: 000001ADEAFF5470\n",
      "  Data Released: False\n",
      "  Global Release Data: Off\n",
      "  UpdateTime: 293\n",
      "  Field Data:\n",
      "    Debug: Off\n",
      "    Modified Time: 244\n",
      "    Reference Count: 1\n",
      "    Registered Events: (none)\n",
      "    Number Of Arrays: 0\n",
      "    Number Of Components: 0\n",
      "    Number Of Tuples: 0\n",
      "  Number Of Points: 62500\n",
      "  Number Of Cells: 62001\n",
      "  Cell Data:\n",
      "    Debug: Off\n",
      "    Modified Time: 252\n",
      "    Reference Count: 1\n",
      "    Registered Events: \n",
      "      Registered Observers:\n",
      "        vtkObserver (000001ADEB011E90)\n",
      "          Event: 33\n",
      "          EventName: ModifiedEvent\n",
      "          Command: 000001ADEAFB06E0\n",
      "          Priority: 0\n",
      "          Tag: 1\n",
      "    Number Of Arrays: 0\n",
      "    Number Of Components: 0\n",
      "    Number Of Tuples: 0\n",
      "    Copy Tuple Flags: ( 1 1 1 1 1 0 1 1 1 1 1 )\n",
      "    Interpolate Flags: ( 1 1 1 1 1 0 0 1 1 1 1 )\n",
      "    Pass Through Flags: ( 1 1 1 1 1 1 1 1 1 1 1 )\n",
      "    Scalars: (none)\n",
      "    Vectors: (none)\n",
      "    Normals: (none)\n",
      "    TCoords: (none)\n",
      "    Tensors: (none)\n",
      "    GlobalIds: (none)\n",
      "    PedigreeIds: (none)\n",
      "    EdgeFlag: (none)\n",
      "    Tangents: (none)\n",
      "    RationalWeights: (none)\n",
      "    HigherOrderDegrees: (none)\n",
      "  Point Data:\n",
      "    Debug: Off\n",
      "    Modified Time: 265\n",
      "    Reference Count: 1\n",
      "    Registered Events: \n",
      "      Registered Observers:\n",
      "        vtkObserver (000001ADEB00D380)\n",
      "          Event: 33\n",
      "          EventName: ModifiedEvent\n",
      "          Command: 000001ADEAFB06E0\n",
      "          Priority: 0\n",
      "          Tag: 1\n",
      "    Number Of Arrays: 1\n",
      "    Array 0 name = Pressure\n",
      "    Number Of Components: 1\n",
      "    Number Of Tuples: 62500\n",
      "    Copy Tuple Flags: ( 1 1 1 1 1 0 1 1 1 1 1 )\n",
      "    Interpolate Flags: ( 1 1 1 1 1 0 0 1 1 1 1 )\n",
      "    Pass Through Flags: ( 1 1 1 1 1 1 1 1 1 1 1 )\n",
      "    Scalars: \n",
      "      Debug: Off\n",
      "      Modified Time: 265\n",
      "      Reference Count: 1\n",
      "      Registered Events: (none)\n",
      "      Name: Pressure\n",
      "      Data type: double\n",
      "      Size: 62500\n",
      "      MaxId: 62499\n",
      "      NumberOfComponents: 1\n",
      "      Information: 0000000000000000\n",
      "      Name: Pressure\n",
      "      Number Of Components: 1\n",
      "      Number Of Tuples: 62500\n",
      "      Size: 62500\n",
      "      MaxId: 62499\n",
      "      LookupTable: (none)\n",
      "    Vectors: (none)\n",
      "    Normals: (none)\n",
      "    TCoords: (none)\n",
      "    Tensors: (none)\n",
      "    GlobalIds: (none)\n",
      "    PedigreeIds: (none)\n",
      "    EdgeFlag: (none)\n",
      "    Tangents: (none)\n",
      "    RationalWeights: (none)\n",
      "    HigherOrderDegrees: (none)\n",
      "  Bounds: \n",
      "    Xmin,Xmax: (0, 249)\n",
      "    Ymin,Ymax: (0, 249)\n",
      "    Zmin,Zmax: (25, 25)\n",
      "  Compute Time: 306\n",
      "  Spacing: (1, 1, 1)\n",
      "  Origin: (0, 0, 0)\n",
      "  Direction: (1, 0, 0, 0, 1, 0, 0, 0, 1)\n",
      "  Dimensions: (250, 250, 1)\n",
      "  Increments: (0, 0, 0)\n",
      "  Extent: (0, 249, 0, 249, 25, 25)\n",
      "\n",
      "\n"
     ]
    }
   ],
   "source": [
    "# Defining reader of ImageData\n",
    "# It reads the image type input\n",
    "reader = vtkXMLImageDataReader()\n",
    "\n",
    "# setting up file and updating\n",
    "reader.SetFileName('./Isabel_2D.vti')\n",
    "reader.Update()\n",
    "\n",
    "# Getting output out from the reader\n",
    "data = reader.GetOutput()\n",
    "print(data)"
   ]
  },
  {
   "cell_type": "markdown",
   "id": "1a48e1d3",
   "metadata": {},
   "source": [
    "#### Number of cells"
   ]
  },
  {
   "cell_type": "code",
   "execution_count": 3,
   "id": "775edc08",
   "metadata": {},
   "outputs": [
    {
     "name": "stdout",
     "output_type": "stream",
     "text": [
      "Number of cells :  62001\n"
     ]
    }
   ],
   "source": [
    "# GetNumberOfCells() function gives us the number of cells in the data\n",
    "numOfCells = data.GetNumberOfCells()\n",
    "print(\"Number of cells : \", numOfCells)"
   ]
  },
  {
   "cell_type": "markdown",
   "id": "ca5b64fd",
   "metadata": {},
   "source": [
    "#### Dimension of the data set"
   ]
  },
  {
   "cell_type": "code",
   "execution_count": 4,
   "id": "800862ca",
   "metadata": {},
   "outputs": [
    {
     "name": "stdout",
     "output_type": "stream",
     "text": [
      "Dimension of the dataset :  (250, 250, 1)\n"
     ]
    }
   ],
   "source": [
    "# GetDimensions() function gives us the number of dimension in the data\n",
    "dim = data.GetDimensions()\n",
    "print(\"Dimension of the dataset : \", dim)"
   ]
  },
  {
   "cell_type": "markdown",
   "id": "1a5ab6ad",
   "metadata": {},
   "source": [
    "#### Number of points present in uniform grid of data"
   ]
  },
  {
   "cell_type": "code",
   "execution_count": 5,
   "id": "b0f8c1cf",
   "metadata": {},
   "outputs": [
    {
     "name": "stdout",
     "output_type": "stream",
     "text": [
      "Number of points present in uniform grid of data :  62500\n"
     ]
    }
   ],
   "source": [
    "# The total number of points will be dimx * dimy * dimz\n",
    "# Since we want to find the uniform grid, we can simply take points in only dimx and dimy direction and ignore the \n",
    "# the dimz direction \n",
    "# Hence points in uniform grid of data = total Points / dimz = dimx * dimy * dimz / dimz = dimx * dimy\n",
    "\n",
    "totalPoints = data.GetNumberOfPoints();\n",
    "dimz = data.GetDimensions()[-1]\n",
    "pointsInGrid = totalPoints/dimz\n",
    "print(\"Number of points present in uniform grid of data : \", int(pointsInGrid))"
   ]
  },
  {
   "cell_type": "markdown",
   "id": "fcea55b6",
   "metadata": {},
   "source": [
    "#### Range of pressure values present in the dataset"
   ]
  },
  {
   "cell_type": "code",
   "execution_count": 6,
   "id": "f12b6391",
   "metadata": {},
   "outputs": [
    {
     "name": "stdout",
     "output_type": "stream",
     "text": [
      "Range of pressure values :  (-1434.8590087890625, 630.5694580078125)\n"
     ]
    }
   ],
   "source": [
    "# From the data we can get the point data, where one array is stored by the name of pressure which we can see under\n",
    "# point data heading by printing data\n",
    "# print(data)\n",
    "pressureArray = data.GetPointData().GetArray('Pressure')\n",
    "\n",
    "# Now we can use GetRange() function to get the range of the values stored in the array i.e. (minVal, maxVal)\n",
    "print(\"Range of pressure values : \", pressureArray.GetRange())"
   ]
  },
  {
   "cell_type": "markdown",
   "id": "f1140964",
   "metadata": {},
   "source": [
    "#### Average pressure value of the entire dataset"
   ]
  },
  {
   "cell_type": "code",
   "execution_count": 7,
   "id": "ed1f8fdd",
   "metadata": {},
   "outputs": [
    {
     "name": "stdout",
     "output_type": "stream",
     "text": [
      "Average pressure of all the values in the entire dataset :  240.77722069091325\n"
     ]
    }
   ],
   "source": [
    "# To get the average we can just add up the the values in the pressure array using function GetValue(id)\n",
    "# And divide it by the total number of the points\n",
    "sum = 0\n",
    "for i in range(totalPoints):\n",
    "    val = (pressureArray.GetValue(i))\n",
    "    sum += val\n",
    "avg = sum/totalPoints\n",
    "print(\"Average pressure of all the values in the entire dataset : \", avg)\n"
   ]
  },
  {
   "cell_type": "markdown",
   "id": "ab52d46c",
   "metadata": {},
   "source": [
    "#### Extracting out a cell "
   ]
  },
  {
   "cell_type": "code",
   "execution_count": 8,
   "id": "ecb52c34",
   "metadata": {},
   "outputs": [],
   "source": [
    "# Cell Id variable\n",
    "cellId = 27"
   ]
  },
  {
   "cell_type": "code",
   "execution_count": 9,
   "id": "f9c1b16f",
   "metadata": {},
   "outputs": [
    {
     "name": "stdout",
     "output_type": "stream",
     "text": [
      "vtkPixel (000001ADE966F5E0)\n",
      "  Debug: Off\n",
      "  Modified Time: 266\n",
      "  Reference Count: 2\n",
      "  Registered Events: (none)\n",
      "  Number Of Points: 4\n",
      "  Bounds: \n",
      "    Xmin,Xmax: (27, 28)\n",
      "    Ymin,Ymax: (0, 1)\n",
      "    Zmin,Zmax: (25, 25)\n",
      "    Point ids are: 27, 28, 277, 278  \n",
      "  Line:\n",
      "    Debug: Off\n",
      "    Modified Time: 279\n",
      "    Reference Count: 1\n",
      "    Registered Events: (none)\n",
      "    Number Of Points: 2\n",
      "    Bounds: \n",
      "      Xmin,Xmax: (0, 0)\n",
      "      Ymin,Ymax: (0, 0)\n",
      "      Zmin,Zmax: (0, 0)\n",
      "      Point ids are: 0, 0    \n",
      "\n",
      "\n"
     ]
    }
   ],
   "source": [
    "# Extracting out cell using GetCell(id) function\n",
    "# GetCell(id) function returns back the cell with the given id\n",
    "cell = data.GetCell(cellId)\n",
    "print(cell)\n"
   ]
  },
  {
   "cell_type": "markdown",
   "id": "29c34eb6",
   "metadata": {},
   "source": [
    "#### Print the indices of the four corner vertices of the cell"
   ]
  },
  {
   "cell_type": "code",
   "execution_count": 10,
   "id": "5d46a0da",
   "metadata": {},
   "outputs": [
    {
     "name": "stdout",
     "output_type": "stream",
     "text": [
      "Indices of four corner vertices of the cell :  27 28 278 277\n"
     ]
    }
   ],
   "source": [
    "# Getting list of point Ids using GetPointIds() function\n",
    "indList = cell.GetPointIds()\n",
    "\n",
    "# Using GetId(index) function to get the id stored in indList\n",
    "pid1 = indList.GetId(0)\n",
    "pid2 = indList.GetId(1)\n",
    "pid3 = indList.GetId(3)\n",
    "pid4 = indList.GetId(2)\n",
    "\n",
    "print(\"Indices of four corner vertices of the cell : \", pid1, pid2, pid3, pid4)"
   ]
  },
  {
   "cell_type": "markdown",
   "id": "84fe4dd4",
   "metadata": {},
   "source": [
    "#### Print the 3D coordinate of each vertex"
   ]
  },
  {
   "cell_type": "code",
   "execution_count": 11,
   "id": "8a073e20",
   "metadata": {},
   "outputs": [
    {
     "name": "stdout",
     "output_type": "stream",
     "text": [
      "For Cell id : 27\n",
      "\n",
      "Vertex id :  27  3D Coord :  (27.0, 0.0, 25.0)\n",
      "Vertex id :  28  3D Coord :  (28.0, 0.0, 25.0)\n",
      "Vertex id :  278  3D Coord :  (28.0, 1.0, 25.0)\n",
      "Vertex id :  277  3D Coord :  (27.0, 1.0, 25.0)\n"
     ]
    }
   ],
   "source": [
    "# GetPoint(id) function basically returns the Coordinates of the point with the given id\n",
    "\n",
    "print(\"For Cell id :\", cellId, end=\"\\n\\n\")\n",
    "print(\"Vertex id : \", pid1, \" 3D Coord : \", data.GetPoint(pid1))\n",
    "print(\"Vertex id : \", pid2, \" 3D Coord : \", data.GetPoint(pid2))\n",
    "print(\"Vertex id : \", pid3, \" 3D Coord : \", data.GetPoint(pid3))\n",
    "print(\"Vertex id : \", pid4, \" 3D Coord : \", data.GetPoint(pid4))"
   ]
  },
  {
   "cell_type": "markdown",
   "id": "fd206d16",
   "metadata": {},
   "source": [
    "#### 3D Coordinate of the center of the cell"
   ]
  },
  {
   "cell_type": "code",
   "execution_count": 12,
   "id": "ff72f6e5",
   "metadata": {},
   "outputs": [
    {
     "name": "stdout",
     "output_type": "stream",
     "text": [
      "3D Coordinates of the center of the cell with id 27 : ( 27.5 ,  0.5 ,  25.0 )\n"
     ]
    }
   ],
   "source": [
    "# Taking average of coordinates of all the corner of the cell with corresponding axes\n",
    "\n",
    "xCord = (data.GetPoint(pid1)[0] + data.GetPoint(pid2)[0] + data.GetPoint(pid3)[0] + data.GetPoint(pid4)[0]) / 4\n",
    "yCord = (data.GetPoint(pid1)[1] + data.GetPoint(pid2)[1] + data.GetPoint(pid3)[1] + data.GetPoint(pid4)[1]) / 4\n",
    "zCord = (data.GetPoint(pid1)[2] + data.GetPoint(pid2)[2] + data.GetPoint(pid3)[2] + data.GetPoint(pid4)[2]) / 4\n",
    "print(\"3D Coordinates of the center of the cell with id\", cellId, \": (\", xCord, \", \", yCord, \", \", zCord, \")\")"
   ]
  },
  {
   "cell_type": "markdown",
   "id": "251c8e03",
   "metadata": {},
   "source": [
    "#### Pressure value for all the four vertices of the extracted cell"
   ]
  },
  {
   "cell_type": "code",
   "execution_count": 13,
   "id": "9e379397",
   "metadata": {},
   "outputs": [
    {
     "name": "stdout",
     "output_type": "stream",
     "text": [
      "For Cell id : 27\n",
      "\n",
      "Vertex id :  27 Pressure Value :  459.2886657714844\n",
      "Vertex id :  28 Pressure Value :  455.9625244140625\n",
      "Vertex id :  278 Pressure Value :  461.59332275390625\n",
      "Vertex id :  277 Pressure Value :  463.08245849609375\n"
     ]
    }
   ],
   "source": [
    "# Used GetValue(id) function to return the pressure Value at the given id\n",
    "\n",
    "print(\"For Cell id :\", cellId, end=\"\\n\\n\")\n",
    "print(\"Vertex id : \", pid1, \"Pressure Value : \", pressureArray.GetValue(pid1))\n",
    "print(\"Vertex id : \", pid2, \"Pressure Value : \", pressureArray.GetValue(pid2))\n",
    "print(\"Vertex id : \", pid3, \"Pressure Value : \", pressureArray.GetValue(pid3))\n",
    "print(\"Vertex id : \", pid4, \"Pressure Value : \", pressureArray.GetValue(pid4))\n"
   ]
  },
  {
   "cell_type": "markdown",
   "id": "814f60b1",
   "metadata": {},
   "source": [
    "#### Mean pressure at the center"
   ]
  },
  {
   "cell_type": "code",
   "execution_count": 14,
   "id": "3a2ad717",
   "metadata": {},
   "outputs": [
    {
     "name": "stdout",
     "output_type": "stream",
     "text": [
      "Mean pressure at the center of cell with id 27 : 459.9817428588867\n"
     ]
    }
   ],
   "source": [
    "# Using GetValue(id) function to get the pressure at the corner of the cell\n",
    "\n",
    "# Helper function to get the value of pressure at the given id\n",
    "def pAt(id):\n",
    "    return pressureArray.GetValue(id)\n",
    "\n",
    "totalPressure = pAt(pid1) + pAt(pid2) + pAt(pid3) + pAt(pid4)\n",
    "print(\"Mean pressure at the center of cell with id\", cellId, \":\", totalPressure/4)"
   ]
  },
  {
   "cell_type": "markdown",
   "id": "837a9358",
   "metadata": {},
   "source": [
    "### 2. Visualization Task :"
   ]
  },
  {
   "cell_type": "code",
   "execution_count": 16,
   "id": "631348c3",
   "metadata": {},
   "outputs": [],
   "source": [
    "# Defining colors object \n",
    "colors = vtkNamedColors()\n",
    "\n",
    "# Defining vtkPoints object\n",
    "# vtkPoints() stores the point \n",
    "points = vtkPoints()\n",
    "\n",
    "# Adding 4 points of the extracted cell\n",
    "points.InsertNextPoint(data.GetPoint(pid1))\n",
    "points.InsertNextPoint(data.GetPoint(pid2))\n",
    "points.InsertNextPoint(data.GetPoint(pid3))\n",
    "points.InsertNextPoint(data.GetPoint(pid4))\n",
    "\n",
    "# Defining object of polyData\n",
    "# It can contain various types of data\n",
    "newCell = vtkPolyData()\n",
    "\n",
    "# Setting up points in the polyData\n",
    "newCell.SetPoints(points)\n",
    "\n",
    "# Defining an arra\n",
    "Colors = vtkUnsignedCharArray()\n",
    "\n",
    "# Setting number of components\n",
    "# 3 means r, g and b\n",
    "Colors.SetNumberOfComponents(3)\n",
    "\n",
    "# Setting its name\n",
    "Colors.SetName('Colors')\n",
    "\n",
    "# Inserting colors in the Colors array\n",
    "# Using InsertNextTuple3 function as we are going to insert a tuple with 3 values : R, G & B\n",
    "Colors.InsertNextTuple3(*colors.GetColor3ub('Red'))\n",
    "Colors.InsertNextTuple3(*colors.GetColor3ub('lightgreen'))\n",
    "Colors.InsertNextTuple3(*colors.GetColor3ub('cyan'))\n",
    "Colors.InsertNextTuple3(*colors.GetColor3ub('Blue'))\n",
    "\n",
    "\n",
    "\n",
    "# Setting colors to the cell points\n",
    "newCell.GetPointData().SetScalars(Colors)\n",
    "\n",
    "# Defining an object of vtkVertexGlyphFilter\n",
    "vertexGlyphFilter = vtkVertexGlyphFilter()\n",
    "\n",
    "# Adding input data into the filter and updating it \n",
    "vertexGlyphFilter.AddInputData(newCell)\n",
    "vertexGlyphFilter.Update()\n",
    "\n",
    "# As per the vtk pipeline defining polyDataMapper which maps data to graphic domain\n",
    "# and setting the input as the filter output\n",
    "mapper = vtkPolyDataMapper()\n",
    "\n",
    "# Setting input in the mapper\n",
    "mapper.SetInputConnection(vertexGlyphFilter.GetOutputPort())\n",
    "\n",
    "# Defining the actor, which are the objects with certain geometry and properties\n",
    "actor = vtkActor()\n",
    "\n",
    "# Setting up the mapper in the actor\n",
    "actor.SetMapper(mapper)\n",
    "\n",
    "# Setting point to be of significant size (15)\n",
    "actor.GetProperty().SetPointSize(15)\n",
    "\n",
    "# Defining renderer which renders the actor\n",
    "r = vtkRenderer()\n",
    "\n",
    "# Defining render window where renderer will render the actor\n",
    "rw = vtkRenderWindow()\n",
    "\n",
    "# Adding renderer in the render window\n",
    "rw.AddRenderer(r)\n",
    "\n",
    "# Defining the Render Window Interactor through which we can interact with the objects by rotating or scaling them\n",
    "rwi = vtkRenderWindowInteractor()\n",
    "\n",
    "# Setting the render window in the render window interactor\n",
    "rwi.SetRenderWindow(rw)\n",
    "\n",
    "# Adding actor in the renderer\n",
    "r.AddActor(actor)\n",
    "\n",
    "# Setting background of the actor\n",
    "r.SetBackground(colors.GetColor3d('White'))\n",
    "\n",
    "# Setting render window name\n",
    "rw.SetWindowName('VertexGlyphFilter')\n",
    "\n",
    "# Setting up full screen to render \n",
    "rw.SetFullScreen(True)\n",
    "\n",
    "# Setting up the border so that it's convinient to close the graphic screen\n",
    "# Without it we will not see the minimize or close button \n",
    "rw.SetBorders(True)\n",
    "\n",
    "\n",
    "# Starting render process in the render window\n",
    "rw.Render()\n",
    "\n",
    "# Starting the interaction part\n",
    "rwi.Start()"
   ]
  }
 ],
 "metadata": {
  "kernelspec": {
   "display_name": "Python 3",
   "language": "python",
   "name": "python3"
  },
  "language_info": {
   "codemirror_mode": {
    "name": "ipython",
    "version": 3
   },
   "file_extension": ".py",
   "mimetype": "text/x-python",
   "name": "python",
   "nbconvert_exporter": "python",
   "pygments_lexer": "ipython3",
   "version": "3.10.5"
  },
  "vscode": {
   "interpreter": {
    "hash": "5be348d9bd430d134166482f08d0309194a6eb0158d7d3f0becabcebe2b25fba"
   }
  }
 },
 "nbformat": 4,
 "nbformat_minor": 5
}
