{
 "cells": [
  {
   "cell_type": "markdown",
   "id": "14a1e1e8",
   "metadata": {},
   "source": [
    "Importing the necessary libraries"
   ]
  },
  {
   "cell_type": "code",
   "execution_count": 1,
   "id": "eddc85d7",
   "metadata": {},
   "outputs": [],
   "source": [
    "import ipywidgets as widgets\n",
    "from IPython.display import display, clear_output\n",
    "import plotly.graph_objects as go\n",
    "import plotly.express as px\n",
    "from vtk import *\n",
    "from ipywidgets import interactive, Button, HBox, VBox"
   ]
  },
  {
   "cell_type": "markdown",
   "id": "7c7383c1",
   "metadata": {},
   "source": [
    "Reading Image data and updating the output"
   ]
  },
  {
   "cell_type": "code",
   "execution_count": 2,
   "id": "a3d44311",
   "metadata": {},
   "outputs": [],
   "source": [
    "reader = vtkXMLImageDataReader()\n",
    "reader.SetFileName(\"./mixture.vti\")\n",
    "reader.Update()"
   ]
  },
  {
   "cell_type": "markdown",
   "id": "0a3b8fa3",
   "metadata": {},
   "source": [
    "Finding necessary values to work with data"
   ]
  },
  {
   "cell_type": "code",
   "execution_count": 3,
   "id": "64903d6b",
   "metadata": {},
   "outputs": [
    {
     "name": "stdout",
     "output_type": "stream",
     "text": [
      "Range of vtkValidPointMask : (1.0, 1.0)\n",
      "Range of vtkGhostType : (0.0, 0.0)\n",
      "Range of ImageFile : (-0.9935540556907654, 0.43280163407325745)\n"
     ]
    }
   ],
   "source": [
    "# Used GetOutput() function to get the data out from the image \n",
    "data = reader.GetOutput()\n",
    "\n",
    "# Getting number of points in the data\n",
    "numOfPoints = data.GetNumberOfPoints()\n",
    "\n",
    "# There are three arrays in the data - vtkValidPointMask, vtkGhostType, ImageFile\n",
    "\n",
    "# Printing range of vtkValidPointMask\n",
    "print(\"Range of vtkValidPointMask :\", data.GetPointData().GetArray('vtkValidPointMask').GetRange())\n",
    "\n",
    "# Printing range of vtkGhostType\n",
    "print(\"Range of vtkGhostType :\", data.GetPointData().GetArray('vtkGhostType').GetRange())\n",
    "\n",
    "# Printing range of ImageFile\n",
    "print(\"Range of ImageFile :\", data.GetPointData().GetArray('ImageFile').GetRange())"
   ]
  },
  {
   "cell_type": "markdown",
   "id": "1f203000",
   "metadata": {},
   "source": [
    "#### In the above we can see that the range of vtkValidPointMask and vtkGhostType can not be worked with as it has no range a single value for all the points. Therefore we will work with 'ImageFile' array"
   ]
  },
  {
   "cell_type": "markdown",
   "id": "2228b0f5",
   "metadata": {},
   "source": [
    "Working with ImageData"
   ]
  },
  {
   "cell_type": "code",
   "execution_count": 4,
   "id": "f73e9e13",
   "metadata": {},
   "outputs": [],
   "source": [
    "# Getting the array 'ImageFile'\n",
    "arr = data.GetPointData().GetArray('ImageFile')\n",
    "\n",
    "# Finding the min and max value inside the array\n",
    "min_val, max_val = arr.GetRange()"
   ]
  },
  {
   "cell_type": "markdown",
   "id": "0f4767e6",
   "metadata": {},
   "source": [
    "Finding out coordinates of each point and value at that point and storing in it the corresponding list"
   ]
  },
  {
   "cell_type": "code",
   "execution_count": 5,
   "id": "317d918d",
   "metadata": {},
   "outputs": [],
   "source": [
    "# Emtpy lists\n",
    "x = []\n",
    "y = []\n",
    "z = []\n",
    "val = []\n",
    "\n",
    "\n",
    "# Iterating over all the points\n",
    "for i in range(numOfPoints):\n",
    "    \n",
    "    # GetPoint(id) function returns the coordinate of the point with id = id\n",
    "    tx, ty, tz = data.GetPoint(i)\n",
    "    \n",
    "    # Appending coordinates into the lists\n",
    "    x.append(tx)\n",
    "    y.append(ty)\n",
    "    z.append(tz)\n",
    "    \n",
    "    # GetValue(id) function returns the value at the point with id = id\n",
    "    # Appending the value in the val array\n",
    "    val.append(arr.GetValue(i))"
   ]
  },
  {
   "cell_type": "markdown",
   "id": "3da89f76",
   "metadata": {},
   "source": [
    "Creating a 3D isosurface using plotly API\n",
    "\n",
    "#### Reference : \n",
    "#### https://plotly.com/python/3d-isosurface-plots/\n",
    "#### https://plotly.com/python/reference/isosurface/\n",
    "#### https://plotly.com/python/3d-axes/"
   ]
  },
  {
   "cell_type": "code",
   "execution_count": 6,
   "id": "7eae3428",
   "metadata": {},
   "outputs": [],
   "source": [
    "def makeIsosurface():\n",
    "    # x, y, z takes the coordinate of each point\n",
    "    # colorscale choses the scale of the color in the range \n",
    "    # value takes the list of all the values at all the points\n",
    "    # showscale = False makes sure that the color bar will not be visible\n",
    "    # isomin and isomax = 0, to make sure that the initial figure should will the isosurface for value = 0\n",
    "    # cmin and cmax are there to set the bounds of colorscale\n",
    "\n",
    "    fig = go.Figure(data=go.Isosurface(\n",
    "            x = x,\n",
    "            y = y,\n",
    "            z = z,\n",
    "            colorscale='BlueRed',\n",
    "            value=val,\n",
    "            showscale=False,\n",
    "            isomin=0,\n",
    "            isomax=0,\n",
    "            cmin=min_val,\n",
    "            cmax=max_val,\n",
    "    ))\n",
    "\n",
    "    # Updating the layout of the isosurface\n",
    "    # disabling ticks in x, y and z axis by using showticklabels=False\n",
    "    # disabling autosize by using autosize=False\n",
    "    # setting width and height of the figure to be 500\n",
    "    fig.update_layout(scene = dict(\n",
    "                      xaxis = dict(showticklabels = False),\n",
    "                      yaxis = dict(showticklabels = False), \n",
    "                      zaxis = dict(showticklabels = False)), \n",
    "                      autosize=False, \n",
    "                      width=500,\n",
    "                      height=500)\n",
    "    return fig\n",
    "fig = makeIsosurface()\n"
   ]
  },
  {
   "cell_type": "markdown",
   "id": "9d7cb556",
   "metadata": {},
   "source": [
    "Creating a histogram using plotly API \n",
    "#### Reference : \n",
    "#### https://plotly.com/python/histograms/\n",
    "#### https://plotly.com/python/reference/histogram/"
   ]
  },
  {
   "cell_type": "code",
   "execution_count": 7,
   "id": "22ee5f9c",
   "metadata": {},
   "outputs": [],
   "source": [
    "def makeHist(a, b):\n",
    "    # Created a histogram using px(plotly.express) and making it a graph_objects using go.Figure() function\n",
    "    # Setting up number of bins in the histogram as 30 to match the number of bins given in the question\n",
    "    hist = go.Figure(px.histogram(x=val, nbins=30, range_x = (a, b)))\n",
    "\n",
    "    # Updating the layout of the histogram\n",
    "    # disabling autosize by using autosize=False\n",
    "    # setting width and height of the figure to be 500\n",
    "    # Changing the title in the x and y axis as given in the question\n",
    "    hist.update_layout(autosize=False, \n",
    "                       width=500, \n",
    "                       height=500, \n",
    "                       xaxis_title='Vortex scalar values', \n",
    "                       yaxis_title='Frequency')\n",
    "    return hist\n",
    "hist = makeHist(min_val, max_val)"
   ]
  },
  {
   "cell_type": "markdown",
   "id": "82491177",
   "metadata": {},
   "source": [
    "Creating a floating point widget using ipywidgets\n",
    "\n",
    "#### Reference : \n",
    "#### https://ipywidgets.readthedocs.io/en/stable/examples/Widget%20List.html#floatslider\n",
    "#### https://ipywidgets.readthedocs.io/en/stable/examples/Output%20Widget.html"
   ]
  },
  {
   "cell_type": "code",
   "execution_count": 8,
   "id": "3a4573b6",
   "metadata": {},
   "outputs": [],
   "source": [
    "# Making a floating point slider\n",
    "# Adding a default value of 0 in the slider\n",
    "# Setting up the bounds of the slider using min and max\n",
    "# Stepsize is set to be 0.1 in the slider\n",
    "# Added description of the slider using description parameter\n",
    "# Set disabled = False to let it enabled\n",
    "# Set continuous_update = False so that it is updated only when the user unclick the slider\n",
    "# Set orientation as the horizontal as per the design given in the question\n",
    "# Set readout = True to show the current value of the float slider beside it\n",
    "# Format of readout is set to be '.2f' to show two places after decimal\n",
    "fl_range = widgets.FloatSlider(\n",
    "    value=0,\n",
    "    min=min_val,\n",
    "    max=max_val,\n",
    "    step=0.01,\n",
    "    description='Isoval:',\n",
    "    disabled=False,\n",
    "    continuous_update=False,\n",
    "    orientation='horizontal',\n",
    "    readout=True,\n",
    "    readout_format='.2f',)"
   ]
  },
  {
   "cell_type": "markdown",
   "id": "36fc794e",
   "metadata": {},
   "source": [
    "Creating a Button widget using ipywidgets\n",
    "\n",
    "#### Reference :  https://ipywidgets.readthedocs.io/en/stable/examples/Widget%20List.html#button"
   ]
  },
  {
   "cell_type": "code",
   "execution_count": 9,
   "id": "4e5c20a1",
   "metadata": {},
   "outputs": [],
   "source": [
    "button = widgets.Button(description=\"Reset\")"
   ]
  },
  {
   "cell_type": "markdown",
   "id": "4a75246d",
   "metadata": {},
   "source": [
    "Making the figure as the widgets using FigureWidget function\n",
    "\n",
    "#### Reference : https://plotly.com/python/figurewidget/"
   ]
  },
  {
   "cell_type": "code",
   "execution_count": 10,
   "id": "cf50bee0",
   "metadata": {},
   "outputs": [],
   "source": [
    "wfig = go.FigureWidget(fig)\n",
    "whist = go.FigureWidget(hist)"
   ]
  },
  {
   "cell_type": "markdown",
   "id": "ae1e3890",
   "metadata": {},
   "source": [
    "global variable to track the isovalue at any point "
   ]
  },
  {
   "cell_type": "code",
   "execution_count": 11,
   "id": "41e01a12",
   "metadata": {},
   "outputs": [],
   "source": [
    "isoval = None\n",
    "reset = True"
   ]
  },
  {
   "cell_type": "markdown",
   "id": "9307f5a7",
   "metadata": {},
   "source": [
    "Default Setting to start with"
   ]
  },
  {
   "cell_type": "code",
   "execution_count": 12,
   "id": "62a56d2d",
   "metadata": {},
   "outputs": [],
   "source": [
    "# For default setting the isoval value will be set to isoVal which is passed as a parameter\n",
    "# Range of histogram is set as the whole range of values in the ImageFile array\n",
    "# Number of bins is set as 30\n",
    "# The isomax and isomin value for the isosurface is set as 0 to start with\n",
    "def defaultSetting(isoVal):\n",
    "    isoval = isoVal\n",
    "    fl_range.value = isoval\n",
    "    hist.update_xaxes(range=[min_val, max_val])\n",
    "    hist.update_traces(nbinsx=30)\n",
    "    fig.update_traces(overwrite=True, isomax=0, selector=dict(type='isosurface'))\n",
    "    fig.update_traces(overwrite=True, isomin=0, selector=dict(type='isosurface'))\n"
   ]
  },
  {
   "cell_type": "markdown",
   "id": "ed6b7a51",
   "metadata": {},
   "source": [
    "Utility Functions"
   ]
  },
  {
   "cell_type": "code",
   "execution_count": 13,
   "id": "097c71dd",
   "metadata": {},
   "outputs": [],
   "source": [
    "# Function to change the histogram whenever there is a change in the value of the slider\n",
    "def changeHist(isoval):\n",
    "    global reset\n",
    "    if(reset == False):\n",
    "        # Find the data values which belong in the interval [isoval-0.25, v <= isoval+0.25]\n",
    "        tempv = []\n",
    "        for i in range(len(val)):\n",
    "            if(val[i] >= (isoval-0.25) and val[i] <= (isoval+0.25)):\n",
    "                tempv.append(val[i])\n",
    "\n",
    "        # Updating the histogram\n",
    "        hist.update_traces(x = tempv, nbinsx=30)\n",
    "        hist.update_xaxes(range=[isoval-0.25, isoval+0.25])\n",
    "    else:\n",
    "        hist.update_traces(x = val, nbinsx=30)\n",
    "        hist.update_xaxes(range=[min_val, max_val])\n",
    "        \n",
    "    reset = False\n",
    "    # returning the updated histogram\n",
    "    return go.FigureWidget(hist)\n",
    "\n",
    "# Function to change the isosurface whenever there is a change in the value of the slider\n",
    "def changeIsoSurface(isoval):\n",
    "    # Updating the isomax value\n",
    "    fig.update_traces(isomax=isoval, selector=dict(type='isosurface'))\n",
    "    \n",
    "    # Updating the isomin value\n",
    "    fig.update_traces(isomin=isoval, selector=dict(type='isosurface'))\n",
    "    \n",
    "    # return the update figure\n",
    "    return go.FigureWidget(fig)\n",
    "\n",
    "# Function to display the slider and reset button horizontally\n",
    "def displaySliderButton():\n",
    "    return HBox([fl_range, button])\n",
    "\n",
    "# Function to display the left part of the target view\n",
    "def displayLeftPart(wfig):\n",
    "    return VBox([displaySliderButton(), wfig])\n",
    "\n",
    "# Function to display both left and right part of the view\n",
    "def displayWidgets(whist, wfig):\n",
    "    global reset\n",
    "    reset = False\n",
    "    display(HBox([displayLeftPart(wfig), whist]))"
   ]
  },
  {
   "cell_type": "markdown",
   "id": "4eafdd0a",
   "metadata": {},
   "source": [
    "Callback function of slider\n",
    "\n",
    "#### Reference : https://ipython.org/ipython-doc/3/api/generated/IPython.display.html#functions"
   ]
  },
  {
   "cell_type": "code",
   "execution_count": 14,
   "id": "b9fcf365",
   "metadata": {},
   "outputs": [],
   "source": [
    "# Callback function whenever there is a change in the value of slider\n",
    "def change(x):\n",
    "\n",
    "    # updating the isoval value by the new value of the slider\n",
    "    isoval = x.new\n",
    "\n",
    "    # change the histogram\n",
    "    whist = changeHist(isoval)\n",
    "    \n",
    "    # change the isosurface\n",
    "    wfig = changeIsoSurface(isoval)\n",
    "    \n",
    "    # clear the output\n",
    "    # wait = True makes sure that when the next output is ready till then do not clear the present output\n",
    "    clear_output(wait = True)\n",
    "    \n",
    "    # display the whole view\n",
    "    displayWidgets(whist, wfig)"
   ]
  },
  {
   "cell_type": "markdown",
   "id": "c5830f54",
   "metadata": {},
   "source": [
    "Callback function of button"
   ]
  },
  {
   "cell_type": "code",
   "execution_count": 15,
   "id": "0d91d8af",
   "metadata": {},
   "outputs": [],
   "source": [
    "# Callback function whenever the button is clicked\n",
    "def on_button_clicked(b):\n",
    "    global reset\n",
    "    reset = True\n",
    "    fl_range.value = 0.0\n",
    "    "
   ]
  },
  {
   "cell_type": "markdown",
   "id": "41dbf234",
   "metadata": {},
   "source": [
    "Setting up call back functions\n",
    "#### Reference : https://ipywidgets.readthedocs.io/en/stable/examples/Widget%20Events.html"
   ]
  },
  {
   "cell_type": "code",
   "execution_count": 16,
   "id": "27a2a84b",
   "metadata": {},
   "outputs": [],
   "source": [
    "# Setting up callback function for the change in value of the slider\n",
    "fl_range.observe(change, names='value')\n",
    "\n",
    "# Setting up callback function for the click in the reset button\n",
    "button.on_click(on_button_clicked)"
   ]
  },
  {
   "cell_type": "markdown",
   "id": "df2647d8",
   "metadata": {},
   "source": [
    "Making sure that the settings applied before running the code and calling the display function"
   ]
  },
  {
   "cell_type": "code",
   "execution_count": 20,
   "id": "29b29b57",
   "metadata": {},
   "outputs": [
    {
     "data": {
      "application/vnd.jupyter.widget-view+json": {
       "model_id": "d9be4bd395a34495b95df52708a25eac",
       "version_major": 2,
       "version_minor": 0
      },
      "text/plain": [
       "HBox(children=(VBox(children=(HBox(children=(FloatSlider(value=0.0, continuous_update=False, description='Isov…"
      ]
     },
     "metadata": {},
     "output_type": "display_data"
    }
   ],
   "source": [
    "defaultSetting(0.0)\n",
    "clear_output()\n",
    "displayWidgets(whist, wfig)"
   ]
  }
 ],
 "metadata": {
  "kernelspec": {
   "display_name": "Python 3 (ipykernel)",
   "language": "python",
   "name": "python3"
  },
  "language_info": {
   "codemirror_mode": {
    "name": "ipython",
    "version": 3
   },
   "file_extension": ".py",
   "mimetype": "text/x-python",
   "name": "python",
   "nbconvert_exporter": "python",
   "pygments_lexer": "ipython3",
   "version": "3.10.5"
  }
 },
 "nbformat": 4,
 "nbformat_minor": 5
}
