{
 "cells": [
  {
   "cell_type": "code",
   "execution_count": 23,
   "id": "dbd0a9fa",
   "metadata": {},
   "outputs": [],
   "source": [
    "# Importing vtk\n",
    "from vtk import *\n",
    "import random\n",
    "from scipy.interpolate import griddata\n",
    "import numpy as np\n",
    "import time"
   ]
  },
  {
   "cell_type": "markdown",
   "id": "abb41b77",
   "metadata": {},
   "source": [
    "## Utility Functions"
   ]
  },
  {
   "cell_type": "code",
   "execution_count": 12,
   "id": "1d6169a8",
   "metadata": {},
   "outputs": [
    {
     "name": "stdout",
     "output_type": "stream",
     "text": [
      "Enter sampling percentage : 5\n",
      "Enter method (linear/neares):nearest\n"
     ]
    }
   ],
   "source": [
    "samplingPercentage = int(input('Enter sampling percentage : ').strip())\n",
    "interpolationMethod = input('Enter method (linear/nearest):').strip()"
   ]
  },
  {
   "cell_type": "code",
   "execution_count": 14,
   "id": "63b11790",
   "metadata": {},
   "outputs": [],
   "source": [
    "# Getting out polydata from 3d isabel image data\n",
    "\n",
    "# Importing colors \n",
    "colors = vtkNamedColors()\n",
    "\n",
    "# Initializing XMLImageDataReader object\n",
    "reader = vtkXMLImageDataReader()\n",
    "\n",
    "# Setting filename and updating\n",
    "reader.SetFileName('./Isabel_3D.vti')\n",
    "reader.Update()\n",
    "\n",
    "# Taking out ouput from the reader\n",
    "data = reader.GetOutput()\n",
    "pressureArray = data.GetPointData().GetArray('Pressure')\n",
    "numOfPoints = data.GetNumberOfPoints()\n",
    "\n",
    "(xDim, yDim, zDim) = data.GetDimensions()\n"
   ]
  },
  {
   "cell_type": "code",
   "execution_count": 24,
   "id": "e144ea3b",
   "metadata": {},
   "outputs": [],
   "source": [
    "def enterDefaultValues():\n",
    "    a = set({})\n",
    "    \n",
    "    t = data.FindPoint(0, 0, 0)\n",
    "    a.add(t)\n",
    "    \n",
    "    t = data.FindPoint(xDim-1, 0, 0)\n",
    "    a.add(t)\n",
    "\n",
    "    t = data.FindPoint(xDim-1, yDim-1, 0)\n",
    "    a.add(t)\n",
    "\n",
    "    t = data.FindPoint(0, yDim-1, 0)\n",
    "    a.add(t)\n",
    "    \n",
    "    t = data.FindPoint(0, 0, zDim-1)\n",
    "    a.add(t)\n",
    "\n",
    "    t = data.FindPoint(xDim-1, 0, zDim-1)\n",
    "    a.add(t)\n",
    "\n",
    "    t = data.FindPoint(xDim-1, yDim-1, zDim-1)\n",
    "    a.add(t)\n",
    "\n",
    "    t = data.FindPoint(0, yDim-1, zDim-1)\n",
    "    a.add(t)\n",
    "    \n",
    "    return a\n",
    "\n",
    "\n",
    "def srs(percentage):\n",
    "    numberOfSampledPoints = int((numOfPoints * percentage)/100)\n",
    "    indices = enterDefaultValues()\n",
    "    print(indices)\n",
    "    numberOfSampledPoints = numberOfSampledPoints\n",
    "    while(len(indices) < numberOfSampledPoints):\n",
    "        rp = random.randint(0, numOfPoints-1)\n",
    "        indices.add(rp)\n",
    "    return indices\n",
    "def compute_snr(arrgt, arr_recon):\n",
    "    diff = arrgt - arr_recon\n",
    "    sqd_max_diff = (np.max(arrgt)-np.min(arrgt))**2\n",
    "    snr = 10 * np.log10(sqd_max_diff/np.mean(diff**2))\n",
    "    return snr"
   ]
  },
  {
   "cell_type": "code",
   "execution_count": 25,
   "id": "9d0147be",
   "metadata": {},
   "outputs": [
    {
     "name": "stdout",
     "output_type": "stream",
     "text": [
      "{0, 62499, 3062500, 3124999, 62250, 3124750, 249, 3062749}\n"
     ]
    }
   ],
   "source": [
    "sampledSet = srs(samplingPercentage)"
   ]
  },
  {
   "cell_type": "code",
   "execution_count": 42,
   "id": "398be6ee",
   "metadata": {},
   "outputs": [
    {
     "name": "stdout",
     "output_type": "stream",
     "text": [
      "[(0.0, 0.0, 0.0), (145.0, 48.0, 4.0), (48.0, 187.0, 37.0), (3.0, 0.0, 0.0), (5.0, 0.0, 0.0), (187.0, 145.0, 12.0), (91.0, 34.0, 46.0), (15.0, 90.0, 29.0), (17.0, 90.0, 29.0), (193.0, 145.0, 12.0), (164.0, 138.0, 33.0), (200.0, 145.0, 12.0), (28.0, 90.0, 29.0), (173.0, 138.0, 33.0), (165.0, 48.0, 4.0), (105.0, 34.0, 46.0), (241.0, 242.0, 20.0), (205.0, 145.0, 12.0), (166.0, 48.0, 4.0)]\n"
     ]
    }
   ],
   "source": [
    "sampledPoints = list(sampledSet)\n",
    "numberOfSampledPoints = len(sampledPoints)\n",
    "sampledValues = []\n",
    "sampledCoord = []\n",
    "for val in sampledPoints:\n",
    "    sampledValues.append(pressureArray.GetValue(val))\n",
    "    sampledCoord.append(data.GetPoint(val))"
   ]
  },
  {
   "cell_type": "code",
   "execution_count": 27,
   "id": "d1b96378",
   "metadata": {},
   "outputs": [
    {
     "data": {
      "text/plain": [
       "0"
      ]
     },
     "execution_count": 27,
     "metadata": {},
     "output_type": "execute_result"
    }
   ],
   "source": [
    "arr = vtkFloatArray()\n",
    "arr.SetNumberOfValues(numberOfSampledPoints)\n",
    "for i in range(numberOfSampledPoints):\n",
    "    arr.SetValue(i, sampledValues[i])\n",
    "arr.SetName('Pressure')\n",
    "\n",
    "points = vtkPoints()\n",
    "for i in range(numberOfSampledPoints):\n",
    "    points.InsertNextPoint(sampledCoord[i])\n",
    "    \n",
    "pdata = vtkPolyData()\n",
    "pdata.SetPoints(points)\n",
    "pdata.GetPointData().SetScalars(arr)"
   ]
  },
  {
   "cell_type": "code",
   "execution_count": 28,
   "id": "81eb1915",
   "metadata": {},
   "outputs": [
    {
     "data": {
      "text/plain": [
       "1"
      ]
     },
     "execution_count": 28,
     "metadata": {},
     "output_type": "execute_result"
    }
   ],
   "source": [
    "writer = vtkXMLPolyDataWriter()\n",
    "writer.SetInputData(pdata)\n",
    "writer.SetFileName('sample.vtp')\n",
    "writer.Write()"
   ]
  },
  {
   "cell_type": "markdown",
   "id": "6ea8ca2e",
   "metadata": {},
   "source": [
    "### Reconstruction of Volume Data"
   ]
  },
  {
   "cell_type": "code",
   "execution_count": 44,
   "id": "fac283f2",
   "metadata": {},
   "outputs": [
    {
     "name": "stdout",
     "output_type": "stream",
     "text": [
      "3125000\n"
     ]
    }
   ],
   "source": [
    "allPoints = []\n",
    "allValues = []\n",
    "for i in range(numOfPoints):\n",
    "    allPoints.append(data.GetPoint(i))\n",
    "    allValues.append(pressureArray.GetValue(val))\n",
    "\n",
    "if interpolationMethod == 'nearest':\n",
    "    startTime = time.time()\n",
    "    reconstructedDataValueList = griddata(sampledCoord, sampledValues, (allPoints), method=\"nearest\")\n",
    "    endTime = time.time()\n",
    "else:\n",
    "    startTime = time.time()\n",
    "    reconstructedDataValueList = griddata(sampledCoord, sampledValues, (allPoints), method=\"linear\")\n",
    "    updatedList = []\n",
    "    updatedCoord = []\n",
    "    for i in range(numOfPoints):\n",
    "        if(not (np.isnan(reconstructedDataValueList[i]) == True)):\n",
    "            updatedList.append(reconstructedDataValueList[i])\n",
    "            updatedCoord.append(data.GetPoint(i))\n",
    "    reconstructedDataValueList = griddata(updatedCoord, updatedList, (allPoints), method=\"nearest\")\n",
    "    endTime = time.time()\n",
    "\n"
   ]
  },
  {
   "cell_type": "code",
   "execution_count": 45,
   "id": "980dffe6",
   "metadata": {},
   "outputs": [
    {
     "name": "stdout",
     "output_type": "stream",
     "text": [
      "3125000\n"
     ]
    }
   ],
   "source": [
    "print(len(reconstructedDataValueList))"
   ]
  },
  {
   "cell_type": "code",
   "execution_count": 37,
   "id": "32c76e35",
   "metadata": {},
   "outputs": [
    {
     "data": {
      "text/plain": [
       "0"
      ]
     },
     "execution_count": 37,
     "metadata": {},
     "output_type": "execute_result"
    }
   ],
   "source": [
    "reconstructedDataValueVtkArray = vtkFloatArray()\n",
    "for i in range(numOfPoints):\n",
    "    reconstructedDataValueVtkArray.InsertNextValue(reconstructedDataValueList[i])\n",
    "reconstructedImage = vtkImageData()\n",
    "reconstructedImage.SetDimensions(250, 250, 50)\n",
    "reconstructedImage.GetPointData().SetScalars(reconstructedDataValueVtkArray)"
   ]
  },
  {
   "cell_type": "code",
   "execution_count": 46,
   "id": "5248bd88",
   "metadata": {},
   "outputs": [],
   "source": [
    "def S_N_R(arr1,arr2):\n",
    "    diff = arr1-arr2\n",
    "    sqd_max_diff = (np.max(arr1)-np.min(arr1))**2\n",
    "    snr = 10*np.log10(sqd_max_diff/np.mean(diff**2))\n",
    "    return snr"
   ]
  },
  {
   "cell_type": "code",
   "execution_count": 47,
   "id": "779c2b5d",
   "metadata": {},
   "outputs": [
    {
     "name": "stdout",
     "output_type": "stream",
     "text": [
      "Total time required for interpolation : 5.0525901317596436\n",
      "Signal to Noise Ratio : -inf\n"
     ]
    },
    {
     "name": "stderr",
     "output_type": "stream",
     "text": [
      "C:\\Users\\maste\\AppData\\Local\\Temp\\ipykernel_3508\\3229272073.py:4: RuntimeWarning: divide by zero encountered in log10\n",
      "  snr = 10*np.log10(sqd_max_diff/np.mean(diff**2))\n"
     ]
    }
   ],
   "source": [
    "writer = vtkXMLImageDataWriter()\n",
    "writer.SetFileName(\"img.vti\")\n",
    "writer.SetInputData(reconstructedImage)\n",
    "writer.Write()\n",
    "print(\"Total time required for interpolation :\",endTime - startTime)\n",
    "print(\"Signal to Noise Ratio :\",S_N_R(np.array(allValues),np.array(reconstructedDataValueList)))"
   ]
  },
  {
   "cell_type": "code",
   "execution_count": null,
   "id": "b35ae836",
   "metadata": {},
   "outputs": [],
   "source": []
  }
 ],
 "metadata": {
  "kernelspec": {
   "display_name": "Python 3 (ipykernel)",
   "language": "python",
   "name": "python3"
  },
  "language_info": {
   "codemirror_mode": {
    "name": "ipython",
    "version": 3
   },
   "file_extension": ".py",
   "mimetype": "text/x-python",
   "name": "python",
   "nbconvert_exporter": "python",
   "pygments_lexer": "ipython3",
   "version": "3.10.5"
  }
 },
 "nbformat": 4,
 "nbformat_minor": 5
}
