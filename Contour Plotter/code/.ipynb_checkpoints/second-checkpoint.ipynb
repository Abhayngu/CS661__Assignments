{
 "cells": [
  {
   "cell_type": "code",
   "execution_count": 1,
   "id": "ee88e952",
   "metadata": {},
   "outputs": [],
   "source": [
    "from vtk import *\n",
    "colors = vtkNamedColors()"
   ]
  },
  {
   "cell_type": "code",
   "execution_count": 2,
   "id": "8e1111fa",
   "metadata": {},
   "outputs": [],
   "source": [
    "reader = vtkXMLImageDataReader()\n",
    "reader.SetFileName('./Isabel_3D.vti')\n",
    "reader.Update()\n",
    "data = reader.GetOutput()"
   ]
  },
  {
   "cell_type": "code",
   "execution_count": 3,
   "id": "0dadf7e2",
   "metadata": {},
   "outputs": [
    {
     "data": {
      "text/plain": [
       "5"
      ]
     },
     "execution_count": 3,
     "metadata": {},
     "output_type": "execute_result"
    }
   ],
   "source": [
    "colorTransfer = vtkColorTransferFunction()\n",
    "colorTransfer.AddRGBPoint(-4931.54, 0, 1, 1)\n",
    "colorTransfer.AddRGBPoint(-2508.95, 0, 0, 1)\n",
    "colorTransfer.AddRGBPoint(-1873.9, 0, 0, 0.5)\n",
    "colorTransfer.AddRGBPoint(-1027.16, 1, 0, 0)\n",
    "colorTransfer.AddRGBPoint(-298.031, 1, 0.4, 0)\n",
    "colorTransfer.AddRGBPoint(2594.97, 1, 1, 0)"
   ]
  },
  {
   "cell_type": "code",
   "execution_count": 11,
   "id": "5a63079f",
   "metadata": {},
   "outputs": [
    {
     "data": {
      "text/plain": [
       "2"
      ]
     },
     "execution_count": 11,
     "metadata": {},
     "output_type": "execute_result"
    }
   ],
   "source": [
    "opacityFun = vtkPiecewiseFunction()\n",
    "opacityFun.AddPoint(-4931.54, 1.0)\n",
    "opacityFun.AddPoint(101.815, 0.02)\n",
    "opacityFun.AddPoint(2594.97, 0.0)"
   ]
  },
  {
   "cell_type": "code",
   "execution_count": 12,
   "id": "81f1e92e",
   "metadata": {},
   "outputs": [],
   "source": [
    "outFilter = vtkOutlineFilter()\n",
    "outFilter.AddInputData(data)\n",
    "outFilter.Update()"
   ]
  },
  {
   "cell_type": "code",
   "execution_count": 13,
   "id": "641152af",
   "metadata": {},
   "outputs": [],
   "source": [
    "sVolMapper = vtkSmartVolumeMapper()\n",
    "sVolMapper.SetBlendModeToComposite()\n",
    "sVolMapper.SetInputData(data)"
   ]
  },
  {
   "cell_type": "code",
   "execution_count": null,
   "id": "53eb233a",
   "metadata": {},
   "outputs": [],
   "source": []
  },
  {
   "cell_type": "code",
   "execution_count": 14,
   "id": "c652e6db",
   "metadata": {},
   "outputs": [],
   "source": [
    "volProperty = vtkVolumeProperty()\n",
    "# volProperty.ShadeOff()\n",
    "# volProperty.SetInterpolationType(VTK_LINEAR_INTERPOLATION)"
   ]
  },
  {
   "cell_type": "code",
   "execution_count": 15,
   "id": "dbe155e2",
   "metadata": {},
   "outputs": [],
   "source": [
    "volProperty.SetScalarOpacity(opacityFun)\n",
    "volProperty.SetColor(colorTransfer)\n"
   ]
  },
  {
   "cell_type": "code",
   "execution_count": 16,
   "id": "35fd53c2",
   "metadata": {},
   "outputs": [],
   "source": [
    "vol = vtkVolume()\n",
    "vol.SetMapper(sVolMapper)\n",
    "vol.SetProperty(volProperty)\n",
    "\n",
    "r = vtkRenderer()\n",
    "r.AddViewProp(vol)\n",
    "\n",
    "rw = vtkRenderWindow()\n",
    "rw.AddRenderer(r)\n",
    "rwi = vtkRenderWindowInteractor()\n",
    "rwi.SetRenderWindow(rw)\n",
    "rw.SetSize(1000, 1000)\n",
    "rw.Render()\n",
    "rwi.Start()"
   ]
  },
  {
   "cell_type": "code",
   "execution_count": 10,
   "id": "e9572f1b",
   "metadata": {},
   "outputs": [],
   "source": [
    "\n",
    "\n",
    "# actor = vtkActor()\n",
    "# actor.SetMapper(mapper)\n",
    "\n",
    "\n",
    "# r.SetBackground(colors.GetColor3d(\"black\"))\n",
    "# rwi = vtkRenderWindowInteractor()\n",
    "# rwi.SetRenderWindow(rw)\n",
    "# r.AddActor(actor)\n",
    "\n",
    "# rwi.Start()"
   ]
  },
  {
   "cell_type": "code",
   "execution_count": null,
   "id": "07fd9e09",
   "metadata": {},
   "outputs": [],
   "source": []
  }
 ],
 "metadata": {
  "kernelspec": {
   "display_name": "Python 3 (ipykernel)",
   "language": "python",
   "name": "python3"
  },
  "language_info": {
   "codemirror_mode": {
    "name": "ipython",
    "version": 3
   },
   "file_extension": ".py",
   "mimetype": "text/x-python",
   "name": "python",
   "nbconvert_exporter": "python",
   "pygments_lexer": "ipython3",
   "version": "3.10.5"
  }
 },
 "nbformat": 4,
 "nbformat_minor": 5
}
