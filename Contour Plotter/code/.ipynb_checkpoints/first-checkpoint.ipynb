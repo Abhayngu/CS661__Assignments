{
 "cells": [
  {
   "cell_type": "code",
   "execution_count": 1,
   "id": "779ac28e",
   "metadata": {},
   "outputs": [],
   "source": [
    "from vtk import *\n",
    "colors = vtkNamedColors()"
   ]
  },
  {
   "cell_type": "code",
   "execution_count": 2,
   "id": "9595f6e2",
   "metadata": {},
   "outputs": [],
   "source": [
    "reader = vtkXMLImageDataReader()\n",
    "reader.SetFileName('./Isabel_2D.vti')\n",
    "reader.Update()\n",
    "data = reader.GetOutput()"
   ]
  },
  {
   "cell_type": "code",
   "execution_count": 3,
   "id": "55591094",
   "metadata": {},
   "outputs": [
    {
     "name": "stdout",
     "output_type": "stream",
     "text": [
      "Number of cells : 62001\n"
     ]
    }
   ],
   "source": [
    "cells = data.GetNumberOfCells()\n",
    "print('Number of cells :', cells)\n",
    "pressureArray = data.GetPointData().GetArray('Pressure')"
   ]
  },
  {
   "cell_type": "code",
   "execution_count": 4,
   "id": "18869f73",
   "metadata": {},
   "outputs": [],
   "source": [
    "C = 100\n",
    "\n"
   ]
  },
  {
   "cell_type": "code",
   "execution_count": 5,
   "id": "ea31a3f3",
   "metadata": {},
   "outputs": [],
   "source": [
    "def findIsoContourPoint(x1, y1, p1, x2, y2, p2):\n",
    "    x = (((p1 - C)/(p1-p2)) * (x2-x1)) + x1\n",
    "    y = (((p1 - C)/(p1-p2)) * (y2-y1)) + y1\n",
    "#     print('x1 :', x1, 'y1 :', y1, 'x2:', x2, 'y2:', y2, 'x:', x, 'y:', y)\n",
    "    return (x, y)"
   ]
  },
  {
   "cell_type": "code",
   "execution_count": 18,
   "id": "9195ca5e",
   "metadata": {
    "scrolled": true
   },
   "outputs": [],
   "source": [
    "cellArray = vtkCellArray()\n",
    "p = []\n",
    "\n",
    "for id in range(cells):\n",
    "    cell = data.GetCell(id)\n",
    "    # Getting list of point Ids using GetPointIds() function\n",
    "    indList = cell.GetPointIds()\n",
    "    \n",
    "    # Defining points\n",
    "    points = []\n",
    "    \n",
    "    # Using GetId(index) function to get the id stored in indList\n",
    "    pid1 = indList.GetId(0)\n",
    "    pid2 = indList.GetId(1)\n",
    "    pid3 = indList.GetId(3)\n",
    "    pid4 = indList.GetId(2)\n",
    "    \n",
    "    x1,y1 = data.GetPoint(pid1)[0], data.GetPoint(pid1)[1]\n",
    "    x2,y2 = data.GetPoint(pid2)[0], data.GetPoint(pid2)[1]\n",
    "    x3,y3 = data.GetPoint(pid3)[0], data.GetPoint(pid3)[1]\n",
    "    x4,y4 = data.GetPoint(pid4)[0], data.GetPoint(pid4)[1]\n",
    "    \n",
    "    pat1 = pressureArray.GetValue(pid1)\n",
    "    pat2 = pressureArray.GetValue(pid2)\n",
    "    pat3 = pressureArray.GetValue(pid3)\n",
    "    pat4 = pressureArray.GetValue(pid4)\n",
    "    count = 0\n",
    "    if((pat1 > C and pat2 < C) or (pat1 < C and pat2 > C)):\n",
    "        x, y = findIsoContourPoint(x1, y1, pat1, x2, y2, pat2)\n",
    "        points.append([x, y, 0])\n",
    "        p.append([x, y, 0])\n",
    "        count += 1\n",
    "        \n",
    "    if((pat2 > C and pat3 < C) or (pat2 < C and pat3 > C)):\n",
    "        x, y = findIsoContourPoint(x2, y2, pat2, x3, y3, pat3)\n",
    "        points.append([x, y, 0])\n",
    "        p.append([x, y, 0])\n",
    "        count+=1\n",
    "        \n",
    "    if((pat3 > C and pat4 < C) or (pat3 < C and pat4 > C)):\n",
    "        if(count == 2):\n",
    "            continue\n",
    "        x, y = findIsoContourPoint(x3, y3, pat3, x4, y4, pat4)\n",
    "        points.append([x, y, 0])\n",
    "        p.append([x, y, 0])\n",
    "        \n",
    "    if((pat4 > C and pat1 < C) or (pat4 < C and pat1 > C)):\n",
    "        if(count == 2):\n",
    "            continue\n",
    "        x, y = findIsoContourPoint(x4, y4, pat4, x1, y1, pat1)\n",
    "        points.append([x, y, 0])\n",
    "        p.append([x, y, 0])\n",
    "        \n",
    "    \n",
    "    \n",
    "    \n",
    "n = len(p)\n",
    "pts = vtkPoints()\n",
    "\n",
    "for i in range(n):\n",
    "#     pts.InsertNextPoint(p[i])\n",
    "    pts.SetPoint(p[i])\n",
    "    \n",
    "# polyLine = vtkPolyLine()\n",
    "# polyLine.GetPointIds().SetNumberOfIds(n)\n",
    "# for i in range(n):\n",
    "#     polyLine.GetPointIds().SetId(i, i)\n",
    "# cellArray.InsertNextCell(polyLine)\n",
    "cellArray.InsertNextCell(n+1)\n",
    "for i in range(n):\n",
    "    cellArray.InsertCellPoint(i)\n",
    "    \n",
    "pdata = vtkPolyData()\n",
    "pdata.SetPoints(pts)\n",
    "pdata.SetLines(cellArray)\n",
    "\n",
    "mapper = vtkPolyDataMapper()\n",
    "mapper.SetInputData(pdata)\n",
    "\n",
    "actor = vtkActor()\n",
    "actor.SetMapper(mapper)\n",
    "\n",
    "r = vtkRenderer()\n",
    "rw = vtkRenderWindow()\n",
    "r.SetBackground(colors.GetColor3d(\"black\"))\n",
    "rw.AddRenderer(r)\n",
    "rwi = vtkRenderWindowInteractor()\n",
    "rwi.SetRenderWindow(rw)\n",
    "r.AddActor(actor)\n",
    "\n",
    "rw.Render()\n",
    "rwi.Start()\n",
    "\n",
    "#     print(pid1, pid2, pid3, pid4)\n",
    "#     print(pat1, pat2, pat3, pat4)"
   ]
  },
  {
   "cell_type": "code",
   "execution_count": null,
   "id": "63c7f707",
   "metadata": {},
   "outputs": [],
   "source": []
  }
 ],
 "metadata": {
  "kernelspec": {
   "display_name": "Python 3 (ipykernel)",
   "language": "python",
   "name": "python3"
  },
  "language_info": {
   "codemirror_mode": {
    "name": "ipython",
    "version": 3
   },
   "file_extension": ".py",
   "mimetype": "text/x-python",
   "name": "python",
   "nbconvert_exporter": "python",
   "pygments_lexer": "ipython3",
   "version": "3.10.5"
  }
 },
 "nbformat": 4,
 "nbformat_minor": 5
}
