{
 "cells": [
  {
   "cell_type": "code",
   "execution_count": 1,
   "id": "ee88e952",
   "metadata": {},
   "outputs": [],
   "source": [
    "from vtk import *\n",
    "colors = vtkNamedColors()"
   ]
  },
  {
   "cell_type": "code",
   "execution_count": 2,
   "id": "8e1111fa",
   "metadata": {},
   "outputs": [],
   "source": [
    "reader = vtkXMLImageDataReader()\n",
    "reader.SetFileName('./Isabel_3D.vti')\n",
    "reader.Update()\n",
    "data = reader.GetOutput()"
   ]
  },
  {
   "cell_type": "code",
   "execution_count": 3,
   "id": "90de042c",
   "metadata": {},
   "outputs": [
    {
     "data": {
      "text/plain": [
       "5"
      ]
     },
     "execution_count": 3,
     "metadata": {},
     "output_type": "execute_result"
    }
   ],
   "source": [
    "colorTransfer = vtkColorTransferFunction()\n",
    "colorTransfer.SetColorSpaceToRGB()\n",
    "colorTransfer.ClampingOff()\n",
    "colorTransfer.AddRGBPoint(-4931.54, 0, 1, 1)\n",
    "colorTransfer.AddRGBPoint(-2508.95, 0, 0, 1)\n",
    "colorTransfer.AddRGBPoint(-1873.9, 0, 0, 0.5)\n",
    "colorTransfer.AddRGBPoint(-1027.16, 1, 0, 0)\n",
    "colorTransfer.AddRGBPoint(-298.031, 1, 0.4, 0)\n",
    "colorTransfer.AddRGBPoint(2594.97, 1, 1, 0)\n",
    "# colorTransfer.GetClamping()"
   ]
  },
  {
   "cell_type": "code",
   "execution_count": 4,
   "id": "26ed9361",
   "metadata": {},
   "outputs": [
    {
     "data": {
      "text/plain": [
       "2"
      ]
     },
     "execution_count": 4,
     "metadata": {},
     "output_type": "execute_result"
    }
   ],
   "source": [
    "opacityFun = vtkPiecewiseFunction()\n",
    "opacityFun.AddPoint(-4931.54, 1.0)\n",
    "opacityFun.AddPoint(101.815, 0.002)\n",
    "opacityFun.AddPoint(2594.97, 0.0)"
   ]
  },
  {
   "cell_type": "code",
   "execution_count": 21,
   "id": "642827e4",
   "metadata": {},
   "outputs": [],
   "source": [
    "outFilter = vtkOutlineFilter()\n",
    "# outFilter.AddInputData(data)\n",
    "# outFilter.Update()\n",
    "# pdata = outFilter.GetOutput()\n",
    "outFilter.SetInputData(data)\n",
    "outFilter.Update()\n",
    "outFilter\n",
    "\n",
    "# data\n",
    "# outFilter\n",
    "\n",
    "mapper = vtkPolyDataMapper()\n",
    "mapper.SetInputConnection(outFilter.GetOutputPort())\n",
    "\n",
    "actor = vtkActor()\n",
    "actor.SetMapper(mapper)\n",
    "actor.GetProperty().SetColor(0, 0, 0)\n",
    "# actor.GetProperty().SetColor(colors.GetColor3d('red'))\n",
    "\n",
    "\n"
   ]
  },
  {
   "cell_type": "code",
   "execution_count": 22,
   "id": "38a73ea5",
   "metadata": {},
   "outputs": [],
   "source": [
    "sVolMapper = vtkSmartVolumeMapper()\n",
    "# sVolMapper.SetBlendModeToComposite()\n",
    "# sVolMapper.SetInputConnection(outFilter.GetOutputPort())\n",
    "# sVolMapper.SetInputData(data.GetOutputPort())\n",
    "# sVolMapper.SetInputConnection(outFilter.GetOutputPort())\n",
    "sVolMapper.SetInputData(data)\n",
    "# sVolMapper.ConnectFilterInput(outFilter)"
   ]
  },
  {
   "cell_type": "code",
   "execution_count": null,
   "id": "c8787e12",
   "metadata": {},
   "outputs": [],
   "source": []
  },
  {
   "cell_type": "code",
   "execution_count": 23,
   "id": "52b41821",
   "metadata": {},
   "outputs": [],
   "source": [
    "volProperty = vtkVolumeProperty()\n",
    "volProperty.ShadeOn()\n",
    "# volProperty.SetInterpolationType(VTK_LINEAR_INTERPOLATION)"
   ]
  },
  {
   "cell_type": "code",
   "execution_count": 24,
   "id": "bdffcff4",
   "metadata": {},
   "outputs": [],
   "source": [
    "volProperty.SetScalarOpacity(opacityFun)\n",
    "volProperty.SetColor(colorTransfer)\n",
    "volProperty.SetAmbient(0.5)\n",
    "volProperty.SetDiffuse(0.5)\n",
    "volProperty.SetSpecular(0.5)"
   ]
  },
  {
   "cell_type": "code",
   "execution_count": 25,
   "id": "b2a2f248",
   "metadata": {},
   "outputs": [],
   "source": [
    "vol = vtkVolume()\n",
    "vol.SetMapper(sVolMapper)\n",
    "vol.SetProperty(volProperty)\n",
    "\n",
    "r = vtkRenderer()\n",
    "r.SetBackground(1,1,1)\n",
    "r.AddActor(vol)\n",
    "r.AddActor(actor)\n",
    "\n",
    "rw = vtkRenderWindow()\n",
    "rw.AddRenderer(r)\n",
    "r.SetBackground(colors.GetColor3d(\"white\"))\n",
    "rwi = vtkRenderWindowInteractor()\n",
    "rwi.SetRenderWindow(rw)\n",
    "rw.SetSize(1000, 1000)\n",
    "rw.Render()\n",
    "rwi.Start()"
   ]
  },
  {
   "cell_type": "code",
   "execution_count": null,
   "id": "c8f86734",
   "metadata": {},
   "outputs": [],
   "source": []
  }
 ],
 "metadata": {
  "kernelspec": {
   "display_name": "Python 3 (ipykernel)",
   "language": "python",
   "name": "python3"
  },
  "language_info": {
   "codemirror_mode": {
    "name": "ipython",
    "version": 3
   },
   "file_extension": ".py",
   "mimetype": "text/x-python",
   "name": "python",
   "nbconvert_exporter": "python",
   "pygments_lexer": "ipython3",
   "version": "3.10.5"
  }
 },
 "nbformat": 4,
 "nbformat_minor": 5
}
